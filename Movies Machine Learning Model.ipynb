{
 "cells": [
  {
   "cell_type": "code",
   "execution_count": 1,
   "metadata": {},
   "outputs": [],
   "source": [
    "# importing Libraries and having plots on defining plot showing in notebook.\n",
    "%matplotlib inline\n",
    "from collections import Counter\n",
    "import pandas as pd\n",
    "import numpy as np\n",
    "import scipy\n",
    "import matplotlib.pyplot as plt\n",
    "\n",
    "# the more advanced python visualization library\n",
    "import seaborn as sns\n",
    "\n",
    "# apply style to all the charts\n",
    "sns.set_style('whitegrid')\n",
    "\n",
    "# setting decimal numbers to two decimals only\n",
    "pd.set_option('display.float_format', lambda x: '%.2f' % x)"
   ]
  },
  {
   "cell_type": "code",
   "execution_count": 2,
   "metadata": {},
   "outputs": [],
   "source": [
    "#importing clean dataset with budgets and revenues over 1000\n",
    "df_dataset = pd.read_csv(r'C:\\Users\\Alka.Patel\\CEBD 1260\\Project\\Data\\Processed\\df_movie_fixed.csv')"
   ]
  },
  {
   "cell_type": "code",
   "execution_count": 3,
   "metadata": {},
   "outputs": [
    {
     "data": {
      "text/html": [
       "<div>\n",
       "<style scoped>\n",
       "    .dataframe tbody tr th:only-of-type {\n",
       "        vertical-align: middle;\n",
       "    }\n",
       "\n",
       "    .dataframe tbody tr th {\n",
       "        vertical-align: top;\n",
       "    }\n",
       "\n",
       "    .dataframe thead th {\n",
       "        text-align: right;\n",
       "    }\n",
       "</style>\n",
       "<table border=\"1\" class=\"dataframe\">\n",
       "  <thead>\n",
       "    <tr style=\"text-align: right;\">\n",
       "      <th></th>\n",
       "      <th>budget</th>\n",
       "      <th>genres</th>\n",
       "      <th>movieId</th>\n",
       "      <th>original_language</th>\n",
       "      <th>original_title</th>\n",
       "      <th>popularity</th>\n",
       "      <th>production_companies</th>\n",
       "      <th>production_countries</th>\n",
       "      <th>release_date</th>\n",
       "      <th>revenue</th>\n",
       "      <th>runtime</th>\n",
       "      <th>title</th>\n",
       "      <th>vote_average</th>\n",
       "      <th>vote_count</th>\n",
       "      <th>keywords</th>\n",
       "    </tr>\n",
       "  </thead>\n",
       "  <tbody>\n",
       "    <tr>\n",
       "      <th>0</th>\n",
       "      <td>30000000.00</td>\n",
       "      <td>['Animation', 'Comedy', 'Family']</td>\n",
       "      <td>862</td>\n",
       "      <td>en</td>\n",
       "      <td>Toy Story</td>\n",
       "      <td>21.95</td>\n",
       "      <td>['Pixar Animation Studios']</td>\n",
       "      <td>['United States of America']</td>\n",
       "      <td>1995-10-30</td>\n",
       "      <td>373554033.00</td>\n",
       "      <td>81.00</td>\n",
       "      <td>Toy Story</td>\n",
       "      <td>7.70</td>\n",
       "      <td>5415.00</td>\n",
       "      <td>['jealousy', 'toy', 'boy', 'friendship', 'frie...</td>\n",
       "    </tr>\n",
       "    <tr>\n",
       "      <th>1</th>\n",
       "      <td>65000000.00</td>\n",
       "      <td>['Adventure', 'Fantasy', 'Family']</td>\n",
       "      <td>8844</td>\n",
       "      <td>en</td>\n",
       "      <td>Jumanji</td>\n",
       "      <td>17.02</td>\n",
       "      <td>['TriStar Pictures', 'Teitler Film', 'Intersco...</td>\n",
       "      <td>['United States of America']</td>\n",
       "      <td>1995-12-15</td>\n",
       "      <td>262797249.00</td>\n",
       "      <td>104.00</td>\n",
       "      <td>Jumanji</td>\n",
       "      <td>6.90</td>\n",
       "      <td>2413.00</td>\n",
       "      <td>['board game', 'disappearance', \"based on chil...</td>\n",
       "    </tr>\n",
       "    <tr>\n",
       "      <th>2</th>\n",
       "      <td>16000000.00</td>\n",
       "      <td>['Comedy', 'Drama', 'Romance']</td>\n",
       "      <td>31357</td>\n",
       "      <td>en</td>\n",
       "      <td>Waiting to Exhale</td>\n",
       "      <td>3.86</td>\n",
       "      <td>['Twentieth Century Fox Film Corporation']</td>\n",
       "      <td>['United States of America']</td>\n",
       "      <td>1995-12-22</td>\n",
       "      <td>81452156.00</td>\n",
       "      <td>127.00</td>\n",
       "      <td>Waiting to Exhale</td>\n",
       "      <td>6.10</td>\n",
       "      <td>34.00</td>\n",
       "      <td>['based on novel', 'interracial relationship',...</td>\n",
       "    </tr>\n",
       "    <tr>\n",
       "      <th>3</th>\n",
       "      <td>60000000.00</td>\n",
       "      <td>['Action', 'Crime', 'Drama', 'Thriller']</td>\n",
       "      <td>949</td>\n",
       "      <td>en</td>\n",
       "      <td>Heat</td>\n",
       "      <td>17.92</td>\n",
       "      <td>['Regency Enterprises', 'Forward Pass', 'Warne...</td>\n",
       "      <td>['United States of America']</td>\n",
       "      <td>1995-12-15</td>\n",
       "      <td>187436818.00</td>\n",
       "      <td>170.00</td>\n",
       "      <td>Heat</td>\n",
       "      <td>7.70</td>\n",
       "      <td>1886.00</td>\n",
       "      <td>['robbery', 'detective', 'bank', 'obsession', ...</td>\n",
       "    </tr>\n",
       "    <tr>\n",
       "      <th>4</th>\n",
       "      <td>35000000.00</td>\n",
       "      <td>['Action', 'Adventure', 'Thriller']</td>\n",
       "      <td>9091</td>\n",
       "      <td>en</td>\n",
       "      <td>Sudden Death</td>\n",
       "      <td>5.23</td>\n",
       "      <td>['Universal Pictures', 'Imperial Entertainment...</td>\n",
       "      <td>['United States of America']</td>\n",
       "      <td>1995-12-22</td>\n",
       "      <td>64350171.00</td>\n",
       "      <td>106.00</td>\n",
       "      <td>Sudden Death</td>\n",
       "      <td>5.50</td>\n",
       "      <td>174.00</td>\n",
       "      <td>['terrorist', 'hostage', 'explosive', 'vice pr...</td>\n",
       "    </tr>\n",
       "  </tbody>\n",
       "</table>\n",
       "</div>"
      ],
      "text/plain": [
       "       budget                                    genres  movieId  \\\n",
       "0 30000000.00         ['Animation', 'Comedy', 'Family']      862   \n",
       "1 65000000.00        ['Adventure', 'Fantasy', 'Family']     8844   \n",
       "2 16000000.00            ['Comedy', 'Drama', 'Romance']    31357   \n",
       "3 60000000.00  ['Action', 'Crime', 'Drama', 'Thriller']      949   \n",
       "4 35000000.00       ['Action', 'Adventure', 'Thriller']     9091   \n",
       "\n",
       "  original_language     original_title  popularity  \\\n",
       "0                en          Toy Story       21.95   \n",
       "1                en            Jumanji       17.02   \n",
       "2                en  Waiting to Exhale        3.86   \n",
       "3                en               Heat       17.92   \n",
       "4                en       Sudden Death        5.23   \n",
       "\n",
       "                                production_companies  \\\n",
       "0                        ['Pixar Animation Studios']   \n",
       "1  ['TriStar Pictures', 'Teitler Film', 'Intersco...   \n",
       "2         ['Twentieth Century Fox Film Corporation']   \n",
       "3  ['Regency Enterprises', 'Forward Pass', 'Warne...   \n",
       "4  ['Universal Pictures', 'Imperial Entertainment...   \n",
       "\n",
       "           production_countries release_date      revenue  runtime  \\\n",
       "0  ['United States of America']   1995-10-30 373554033.00    81.00   \n",
       "1  ['United States of America']   1995-12-15 262797249.00   104.00   \n",
       "2  ['United States of America']   1995-12-22  81452156.00   127.00   \n",
       "3  ['United States of America']   1995-12-15 187436818.00   170.00   \n",
       "4  ['United States of America']   1995-12-22  64350171.00   106.00   \n",
       "\n",
       "               title  vote_average  vote_count  \\\n",
       "0          Toy Story          7.70     5415.00   \n",
       "1            Jumanji          6.90     2413.00   \n",
       "2  Waiting to Exhale          6.10       34.00   \n",
       "3               Heat          7.70     1886.00   \n",
       "4       Sudden Death          5.50      174.00   \n",
       "\n",
       "                                            keywords  \n",
       "0  ['jealousy', 'toy', 'boy', 'friendship', 'frie...  \n",
       "1  ['board game', 'disappearance', \"based on chil...  \n",
       "2  ['based on novel', 'interracial relationship',...  \n",
       "3  ['robbery', 'detective', 'bank', 'obsession', ...  \n",
       "4  ['terrorist', 'hostage', 'explosive', 'vice pr...  "
      ]
     },
     "execution_count": 3,
     "metadata": {},
     "output_type": "execute_result"
    }
   ],
   "source": [
    "df_dataset.head()"
   ]
  },
  {
   "cell_type": "code",
   "execution_count": 9,
   "metadata": {},
   "outputs": [],
   "source": [
    "\n",
    "df_dataset[\"revenue_log\"]=df_dataset['revenue'].apply(np.log)\n"
   ]
  },
  {
   "cell_type": "code",
   "execution_count": 10,
   "metadata": {},
   "outputs": [],
   "source": [
    "\n",
    "df_dataset[\"budget_log\"]=df_dataset['budget'].apply(np.log)"
   ]
  },
  {
   "cell_type": "code",
   "execution_count": 11,
   "metadata": {},
   "outputs": [
    {
     "data": {
      "text/html": [
       "<div>\n",
       "<style scoped>\n",
       "    .dataframe tbody tr th:only-of-type {\n",
       "        vertical-align: middle;\n",
       "    }\n",
       "\n",
       "    .dataframe tbody tr th {\n",
       "        vertical-align: top;\n",
       "    }\n",
       "\n",
       "    .dataframe thead th {\n",
       "        text-align: right;\n",
       "    }\n",
       "</style>\n",
       "<table border=\"1\" class=\"dataframe\">\n",
       "  <thead>\n",
       "    <tr style=\"text-align: right;\">\n",
       "      <th></th>\n",
       "      <th>budget</th>\n",
       "      <th>genres</th>\n",
       "      <th>movieId</th>\n",
       "      <th>original_language</th>\n",
       "      <th>original_title</th>\n",
       "      <th>popularity</th>\n",
       "      <th>production_companies</th>\n",
       "      <th>production_countries</th>\n",
       "      <th>release_date</th>\n",
       "      <th>revenue</th>\n",
       "      <th>runtime</th>\n",
       "      <th>title</th>\n",
       "      <th>vote_average</th>\n",
       "      <th>vote_count</th>\n",
       "      <th>keywords</th>\n",
       "      <th>revenue_log</th>\n",
       "      <th>budget_log</th>\n",
       "    </tr>\n",
       "  </thead>\n",
       "  <tbody>\n",
       "    <tr>\n",
       "      <th>0</th>\n",
       "      <td>30000000.00</td>\n",
       "      <td>['Animation', 'Comedy', 'Family']</td>\n",
       "      <td>862</td>\n",
       "      <td>en</td>\n",
       "      <td>Toy Story</td>\n",
       "      <td>21.95</td>\n",
       "      <td>['Pixar Animation Studios']</td>\n",
       "      <td>['United States of America']</td>\n",
       "      <td>1995-10-30</td>\n",
       "      <td>373554033.00</td>\n",
       "      <td>81.00</td>\n",
       "      <td>Toy Story</td>\n",
       "      <td>7.70</td>\n",
       "      <td>5415.00</td>\n",
       "      <td>['jealousy', 'toy', 'boy', 'friendship', 'frie...</td>\n",
       "      <td>19.74</td>\n",
       "      <td>17.22</td>\n",
       "    </tr>\n",
       "    <tr>\n",
       "      <th>1</th>\n",
       "      <td>65000000.00</td>\n",
       "      <td>['Adventure', 'Fantasy', 'Family']</td>\n",
       "      <td>8844</td>\n",
       "      <td>en</td>\n",
       "      <td>Jumanji</td>\n",
       "      <td>17.02</td>\n",
       "      <td>['TriStar Pictures', 'Teitler Film', 'Intersco...</td>\n",
       "      <td>['United States of America']</td>\n",
       "      <td>1995-12-15</td>\n",
       "      <td>262797249.00</td>\n",
       "      <td>104.00</td>\n",
       "      <td>Jumanji</td>\n",
       "      <td>6.90</td>\n",
       "      <td>2413.00</td>\n",
       "      <td>['board game', 'disappearance', \"based on chil...</td>\n",
       "      <td>19.39</td>\n",
       "      <td>17.99</td>\n",
       "    </tr>\n",
       "    <tr>\n",
       "      <th>2</th>\n",
       "      <td>16000000.00</td>\n",
       "      <td>['Comedy', 'Drama', 'Romance']</td>\n",
       "      <td>31357</td>\n",
       "      <td>en</td>\n",
       "      <td>Waiting to Exhale</td>\n",
       "      <td>3.86</td>\n",
       "      <td>['Twentieth Century Fox Film Corporation']</td>\n",
       "      <td>['United States of America']</td>\n",
       "      <td>1995-12-22</td>\n",
       "      <td>81452156.00</td>\n",
       "      <td>127.00</td>\n",
       "      <td>Waiting to Exhale</td>\n",
       "      <td>6.10</td>\n",
       "      <td>34.00</td>\n",
       "      <td>['based on novel', 'interracial relationship',...</td>\n",
       "      <td>18.22</td>\n",
       "      <td>16.59</td>\n",
       "    </tr>\n",
       "    <tr>\n",
       "      <th>3</th>\n",
       "      <td>60000000.00</td>\n",
       "      <td>['Action', 'Crime', 'Drama', 'Thriller']</td>\n",
       "      <td>949</td>\n",
       "      <td>en</td>\n",
       "      <td>Heat</td>\n",
       "      <td>17.92</td>\n",
       "      <td>['Regency Enterprises', 'Forward Pass', 'Warne...</td>\n",
       "      <td>['United States of America']</td>\n",
       "      <td>1995-12-15</td>\n",
       "      <td>187436818.00</td>\n",
       "      <td>170.00</td>\n",
       "      <td>Heat</td>\n",
       "      <td>7.70</td>\n",
       "      <td>1886.00</td>\n",
       "      <td>['robbery', 'detective', 'bank', 'obsession', ...</td>\n",
       "      <td>19.05</td>\n",
       "      <td>17.91</td>\n",
       "    </tr>\n",
       "    <tr>\n",
       "      <th>4</th>\n",
       "      <td>35000000.00</td>\n",
       "      <td>['Action', 'Adventure', 'Thriller']</td>\n",
       "      <td>9091</td>\n",
       "      <td>en</td>\n",
       "      <td>Sudden Death</td>\n",
       "      <td>5.23</td>\n",
       "      <td>['Universal Pictures', 'Imperial Entertainment...</td>\n",
       "      <td>['United States of America']</td>\n",
       "      <td>1995-12-22</td>\n",
       "      <td>64350171.00</td>\n",
       "      <td>106.00</td>\n",
       "      <td>Sudden Death</td>\n",
       "      <td>5.50</td>\n",
       "      <td>174.00</td>\n",
       "      <td>['terrorist', 'hostage', 'explosive', 'vice pr...</td>\n",
       "      <td>17.98</td>\n",
       "      <td>17.37</td>\n",
       "    </tr>\n",
       "  </tbody>\n",
       "</table>\n",
       "</div>"
      ],
      "text/plain": [
       "       budget                                    genres  movieId  \\\n",
       "0 30000000.00         ['Animation', 'Comedy', 'Family']      862   \n",
       "1 65000000.00        ['Adventure', 'Fantasy', 'Family']     8844   \n",
       "2 16000000.00            ['Comedy', 'Drama', 'Romance']    31357   \n",
       "3 60000000.00  ['Action', 'Crime', 'Drama', 'Thriller']      949   \n",
       "4 35000000.00       ['Action', 'Adventure', 'Thriller']     9091   \n",
       "\n",
       "  original_language     original_title  popularity  \\\n",
       "0                en          Toy Story       21.95   \n",
       "1                en            Jumanji       17.02   \n",
       "2                en  Waiting to Exhale        3.86   \n",
       "3                en               Heat       17.92   \n",
       "4                en       Sudden Death        5.23   \n",
       "\n",
       "                                production_companies  \\\n",
       "0                        ['Pixar Animation Studios']   \n",
       "1  ['TriStar Pictures', 'Teitler Film', 'Intersco...   \n",
       "2         ['Twentieth Century Fox Film Corporation']   \n",
       "3  ['Regency Enterprises', 'Forward Pass', 'Warne...   \n",
       "4  ['Universal Pictures', 'Imperial Entertainment...   \n",
       "\n",
       "           production_countries release_date      revenue  runtime  \\\n",
       "0  ['United States of America']   1995-10-30 373554033.00    81.00   \n",
       "1  ['United States of America']   1995-12-15 262797249.00   104.00   \n",
       "2  ['United States of America']   1995-12-22  81452156.00   127.00   \n",
       "3  ['United States of America']   1995-12-15 187436818.00   170.00   \n",
       "4  ['United States of America']   1995-12-22  64350171.00   106.00   \n",
       "\n",
       "               title  vote_average  vote_count  \\\n",
       "0          Toy Story          7.70     5415.00   \n",
       "1            Jumanji          6.90     2413.00   \n",
       "2  Waiting to Exhale          6.10       34.00   \n",
       "3               Heat          7.70     1886.00   \n",
       "4       Sudden Death          5.50      174.00   \n",
       "\n",
       "                                            keywords  revenue_log  budget_log  \n",
       "0  ['jealousy', 'toy', 'boy', 'friendship', 'frie...        19.74       17.22  \n",
       "1  ['board game', 'disappearance', \"based on chil...        19.39       17.99  \n",
       "2  ['based on novel', 'interracial relationship',...        18.22       16.59  \n",
       "3  ['robbery', 'detective', 'bank', 'obsession', ...        19.05       17.91  \n",
       "4  ['terrorist', 'hostage', 'explosive', 'vice pr...        17.98       17.37  "
      ]
     },
     "execution_count": 11,
     "metadata": {},
     "output_type": "execute_result"
    }
   ],
   "source": [
    "df_dataset.head()"
   ]
  },
  {
   "cell_type": "markdown",
   "metadata": {},
   "source": [
    "# LOGGED SCALE EXPLORATION"
   ]
  },
  {
   "cell_type": "markdown",
   "metadata": {},
   "source": [
    "LOGGED REVENUE"
   ]
  },
  {
   "cell_type": "code",
   "execution_count": 14,
   "metadata": {},
   "outputs": [
    {
     "name": "stdout",
     "output_type": "stream",
     "text": [
      "log scaled revenue details\n"
     ]
    },
    {
     "data": {
      "text/plain": [
       "count   5220.00\n",
       "mean      16.94\n",
       "std        2.17\n",
       "min        7.25\n",
       "25%       15.89\n",
       "50%       17.28\n",
       "75%       18.44\n",
       "max       21.75\n",
       "Name: revenue_log, dtype: float64"
      ]
     },
     "execution_count": 14,
     "metadata": {},
     "output_type": "execute_result"
    }
   ],
   "source": [
    "print('log scaled revenue details')\n",
    "df_dataset[\"revenue_log\"].describe()"
   ]
  },
  {
   "cell_type": "code",
   "execution_count": 15,
   "metadata": {},
   "outputs": [
    {
     "data": {
      "text/plain": [
       "<matplotlib.axes._subplots.AxesSubplot at 0xc09c7f0>"
      ]
     },
     "execution_count": 15,
     "metadata": {},
     "output_type": "execute_result"
    },
    {
     "data": {
      "image/png": "[encoded data removed]",
      "text/plain": [
       "<matplotlib.figure.Figure at 0xc0cecc0>"
      ]
     },
     "metadata": {},
     "output_type": "display_data"
    }
   ],
   "source": [
    "plt.rcParams['figure.figsize'] = [16, 8]\n",
    "df_dataset[\"revenue_log\"].hist()"
   ]
  },
  {
   "cell_type": "markdown",
   "metadata": {},
   "source": [
    "LOGGED BUDGET"
   ]
  },
  {
   "cell_type": "code",
   "execution_count": 18,
   "metadata": {},
   "outputs": [
    {
     "name": "stdout",
     "output_type": "stream",
     "text": [
      "log scaled budget details\n"
     ]
    },
    {
     "data": {
      "text/plain": [
       "count   5220.00\n",
       "mean      16.45\n",
       "std        1.57\n",
       "min        7.82\n",
       "25%       15.61\n",
       "50%       16.71\n",
       "75%       17.50\n",
       "max       19.76\n",
       "Name: budget_log, dtype: float64"
      ]
     },
     "execution_count": 18,
     "metadata": {},
     "output_type": "execute_result"
    }
   ],
   "source": [
    "print('log scaled budget details')\n",
    "df_dataset[\"budget_log\"].describe()"
   ]
  },
  {
   "cell_type": "code",
   "execution_count": 19,
   "metadata": {},
   "outputs": [
    {
     "data": {
      "text/plain": [
       "<matplotlib.axes._subplots.AxesSubplot at 0xc12a160>"
      ]
     },
     "execution_count": 19,
     "metadata": {},
     "output_type": "execute_result"
    },
    {
     "data": {
      "image/png": "[encoded data removed]",
      "text/plain": [
       "<matplotlib.figure.Figure at 0xc167630>"
      ]
     },
     "metadata": {},
     "output_type": "display_data"
    }
   ],
   "source": [
    "plt.rcParams['figure.figsize'] = [16, 8]\n",
    "df_dataset[\"budget_log\"].hist()"
   ]
  },
  {
   "cell_type": "markdown",
   "metadata": {},
   "source": [
    "# Regular budget and revenue details"
   ]
  },
  {
   "cell_type": "markdown",
   "metadata": {},
   "source": [
    "REGULAR REVENUE"
   ]
  },
  {
   "cell_type": "code",
   "execution_count": 20,
   "metadata": {},
   "outputs": [
    {
     "name": "stdout",
     "output_type": "stream",
     "text": [
      "regular revenue details\n"
     ]
    },
    {
     "data": {
      "text/plain": [
       "count         5220.00\n",
       "mean      93298630.50\n",
       "std      168588287.30\n",
       "min           1404.00\n",
       "25%        8000000.00\n",
       "50%       32000000.00\n",
       "75%      102447582.25\n",
       "max     2787965087.00\n",
       "Name: revenue, dtype: float64"
      ]
     },
     "execution_count": 20,
     "metadata": {},
     "output_type": "execute_result"
    }
   ],
   "source": [
    "print('regular revenue details')\n",
    "df_dataset[\"revenue\"].describe()"
   ]
  },
  {
   "cell_type": "code",
   "execution_count": 21,
   "metadata": {},
   "outputs": [
    {
     "data": {
      "text/plain": [
       "<matplotlib.axes._subplots.AxesSubplot at 0xc1a1748>"
      ]
     },
     "execution_count": 21,
     "metadata": {},
     "output_type": "execute_result"
    },
    {
     "data": {
      "image/png": "[encoded data removed]",
      "text/plain": [
       "<matplotlib.figure.Figure at 0xc1990b8>"
      ]
     },
     "metadata": {},
     "output_type": "display_data"
    }
   ],
   "source": [
    "plt.rcParams['figure.figsize'] = [16, 8]\n",
    "df_dataset[\"revenue\"].hist()"
   ]
  },
  {
   "cell_type": "markdown",
   "metadata": {},
   "source": [
    "REGULAR BUDGET"
   ]
  },
  {
   "cell_type": "code",
   "execution_count": 22,
   "metadata": {},
   "outputs": [
    {
     "name": "stdout",
     "output_type": "stream",
     "text": [
      "regular budget details\n"
     ]
    },
    {
     "data": {
      "text/plain": [
       "count        5220.00\n",
       "mean     32111152.97\n",
       "std      40523087.07\n",
       "min          2500.00\n",
       "25%       6000000.00\n",
       "50%      18000000.00\n",
       "75%      40000000.00\n",
       "max     380000000.00\n",
       "Name: budget, dtype: float64"
      ]
     },
     "execution_count": 22,
     "metadata": {},
     "output_type": "execute_result"
    }
   ],
   "source": [
    "print('regular budget details')\n",
    "df_dataset[\"budget\"].describe()"
   ]
  },
  {
   "cell_type": "code",
   "execution_count": 23,
   "metadata": {},
   "outputs": [
    {
     "data": {
      "text/plain": [
       "<matplotlib.axes._subplots.AxesSubplot at 0xc891fd0>"
      ]
     },
     "execution_count": 23,
     "metadata": {},
     "output_type": "execute_result"
    },
    {
     "data": {
      "image/png": "[encoded data removed]",
      "text/plain": [
       "<matplotlib.figure.Figure at 0xc3c0978>"
      ]
     },
     "metadata": {},
     "output_type": "display_data"
    }
   ],
   "source": [
    "plt.rcParams['figure.figsize'] = [16, 8]\n",
    "df_dataset[\"budget\"].hist()"
   ]
  },
  {
   "cell_type": "code",
   "execution_count": null,
   "metadata": {},
   "outputs": [],
   "source": []
  }
 ],
 "metadata": {
  "kernelspec": {
   "display_name": "Python 3",
   "language": "python",
   "name": "python3"
  },
  "language_info": {
   "codemirror_mode": {
    "name": "ipython",
    "version": 3
   },
   "file_extension": ".py",
   "mimetype": "text/x-python",
   "name": "python",
   "nbconvert_exporter": "python",
   "pygments_lexer": "ipython3",
   "version": "3.6.4"
  }
 },
 "nbformat": 4,
 "nbformat_minor": 2
}
