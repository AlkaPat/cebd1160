{
 "cells": [
  {
   "cell_type": "markdown",
   "metadata": {},
   "source": [
    "# Ptyhon Warm Up\n",
    "\n",
    "1. create a list (list_a) with numbers from 1 to 10\n",
    "2. import the numpy library and caluclate the mean of the first 5 items from the list_a\n",
    "3. create a list (list_b) with 10 random numbers in a range from 1 to 10\n",
    "4. identify how many elements are in the intersection between list_a and list_b\n",
    "5. create a function that defines if a number is 'even' or 'odd\n",
    "6. create a list (list_c) that merges list_a and list_b\n",
    "7. organize the list_c into a dictionary according to wheather the number is 'even' or 'odd'\n",
    "8. how many numbers are even and how many are odd"
   ]
  },
  {
   "cell_type": "code",
   "execution_count": 14,
   "metadata": {},
   "outputs": [
    {
     "name": "stdout",
     "output_type": "stream",
     "text": [
      "[1, 2, 3, 4, 5, 6, 7, 8, 9, 10]\n"
     ]
    }
   ],
   "source": [
    "# 1. create a list (list_a) with numbers from 1 to 10\n",
    "list_a = list(range(1,11))\n",
    "print(list_a)"
   ]
  },
  {
   "cell_type": "code",
   "execution_count": 15,
   "metadata": {},
   "outputs": [
    {
     "name": "stdout",
     "output_type": "stream",
     "text": [
      "3.0\n"
     ]
    }
   ],
   "source": [
    "# 2. import the numpy library and caluclate the mean of the first 5 items from the list_a\n",
    "import numpy as np\n",
    "print(np.mean(list_a[0:5]))"
   ]
  },
  {
   "cell_type": "code",
   "execution_count": 19,
   "metadata": {},
   "outputs": [
    {
     "name": "stdout",
     "output_type": "stream",
     "text": [
      "[5, 3, 5, 10, 4, 7, 3, 3, 10, 1]\n"
     ]
    }
   ],
   "source": [
    "# 3. create a list (list_b) with 10 random numbers in a range from 1 to 10\n",
    "import random\n",
    "list_b = []\n",
    "for i in range(10):\n",
    "    list_b.append(random.randint(1, 10))\n",
    "print(list_b)"
   ]
  },
  {
   "cell_type": "code",
   "execution_count": 22,
   "metadata": {},
   "outputs": [
    {
     "name": "stdout",
     "output_type": "stream",
     "text": [
      "[4, 7, 5, 9, 9, 7, 8, 5, 3, 5]\n"
     ]
    }
   ],
   "source": [
    "list_b = list(np.random.randint(1, 10, size=10))\n",
    "print(list_b)"
   ]
  },
  {
   "cell_type": "code",
   "execution_count": 25,
   "metadata": {},
   "outputs": [
    {
     "data": {
      "text/plain": [
       "{3, 4, 5, 7, 8, 9}"
      ]
     },
     "execution_count": 25,
     "metadata": {},
     "output_type": "execute_result"
    }
   ],
   "source": [
    "set(list_b)"
   ]
  },
  {
   "cell_type": "code",
   "execution_count": 24,
   "metadata": {},
   "outputs": [
    {
     "name": "stdout",
     "output_type": "stream",
     "text": [
      "{3, 4, 5, 7, 8, 9}\n"
     ]
    }
   ],
   "source": [
    "#4. identify how many elements are in the intersection between list_a and list_b\n",
    "print(set(list_a) & set(list_b))"
   ]
  },
  {
   "cell_type": "code",
   "execution_count": 26,
   "metadata": {},
   "outputs": [
    {
     "name": "stdout",
     "output_type": "stream",
     "text": [
      "even\n",
      "odd\n"
     ]
    }
   ],
   "source": [
    "#5. create a function that defines if a number is 'even' or 'odd\n",
    "def even_odd(n):\n",
    "    if n%2 == 0:\n",
    "        return 'even'\n",
    "    else:\n",
    "        return 'odd'\n",
    "    \n",
    "print(even_odd(2))\n",
    "print(even_odd(3))"
   ]
  },
  {
   "cell_type": "code",
   "execution_count": 28,
   "metadata": {},
   "outputs": [
    {
     "name": "stdout",
     "output_type": "stream",
     "text": [
      "[1, 2, 3, 4, 5, 6, 7, 8, 9, 10, 4, 7, 5, 9, 9, 7, 8, 5, 3, 5]\n"
     ]
    }
   ],
   "source": [
    "#6. create a list (list_c) that merges list_a and list_b\n",
    "list_c = list_a + list_b\n",
    "print(list_c)"
   ]
  },
  {
   "cell_type": "code",
   "execution_count": 31,
   "metadata": {},
   "outputs": [
    {
     "name": "stdout",
     "output_type": "stream",
     "text": [
      "{'even': [2, 4, 6, 8, 10, 4, 8], 'odd': [1, 3, 5, 7, 9, 7, 5, 9, 9, 7, 5, 3, 5]}\n"
     ]
    }
   ],
   "source": [
    "#7. organize the list_c into a dictionary according to wheather the number is 'even' or 'odd'\n",
    "dict_numbers = {}\n",
    "dict_numbers['even'] = []\n",
    "dict_numbers['odd'] = []\n",
    "for value in list_c:\n",
    "    number_type = even_odd(value) \n",
    "    dict_numbers[number_type].append(value)\n",
    "print(dict_numbers)"
   ]
  },
  {
   "cell_type": "code",
   "execution_count": 35,
   "metadata": {},
   "outputs": [
    {
     "name": "stdout",
     "output_type": "stream",
     "text": [
      "#even 7\n",
      "#odd 13\n"
     ]
    }
   ],
   "source": [
    "#8. how many numbers are even and how many are odd\n",
    "print('#even', len(dict_numbers['even']))\n",
    "print('#odd', len(dict_numbers['odd']))"
   ]
  },
  {
   "cell_type": "code",
   "execution_count": null,
   "metadata": {},
   "outputs": [],
   "source": []
  }
 ],
 "metadata": {
  "kernelspec": {
   "display_name": "Python 3",
   "language": "python",
   "name": "python3"
  },
  "language_info": {
   "codemirror_mode": {
    "name": "ipython",
    "version": 3
   },
   "file_extension": ".py",
   "mimetype": "text/x-python",
   "name": "python",
   "nbconvert_exporter": "python",
   "pygments_lexer": "ipython3",
   "version": "3.6.4"
  }
 },
 "nbformat": 4,
 "nbformat_minor": 2
}
